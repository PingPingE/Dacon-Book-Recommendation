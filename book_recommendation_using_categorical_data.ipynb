{
  "cells": [
    {
      "cell_type": "markdown",
      "metadata": {
        "id": "view-in-github",
        "colab_type": "text"
      },
      "source": [
        "<a href=\"https://colab.research.google.com/github/PingPingE/Dacon-Book-Recommendation/blob/main/book_recommendation_using_categorical_data.ipynb\" target=\"_parent\"><img src=\"https://colab.research.google.com/assets/colab-badge.svg\" alt=\"Open In Colab\"/></a>"
      ]
    },
    {
      "cell_type": "markdown",
      "source": [
        "## Goal: Prediction of Book-Rating(0~10)\n",
        "### Dataset Info\n",
        "- ID : 샘플 고유 ID\n",
        "- User-ID : 유저 고유 ID\n",
        "- Book-ID : 도서 고유 ID\n",
        "- 유저 정보\n",
        "  - Age : 나이\n",
        "  - Location : 지역\n",
        "- 도서 정보\n",
        "  - Book-Title : 도서 명\n",
        "  - Book-Author : 도서 저자\n",
        "- Year-Of-Publication : 도서 출판 년도 (-1일 경우 결측 혹은 알 수 없음)\n",
        "- Publisher : 출판사\n",
        "- Book-Rating : 유저가 도서에 부여한 평점 (0점 ~ 10점)\n",
        "  - 단, 0점인 경우에는 유저가 해당 도서에 관심이 없고 관련이 없는 경우"
      ],
      "metadata": {
        "id": "1jXh9T8Z_wWq"
      }
    },
    {
      "cell_type": "markdown",
      "source": [
        "## 이번에는 출판사, 지역 등 범주형 변수를 추가하자"
      ],
      "metadata": {
        "id": "pgQqKehSu1Fx"
      }
    },
    {
      "cell_type": "code",
      "execution_count": 1,
      "metadata": {
        "id": "e4S8YNijtiJK",
        "colab": {
          "base_uri": "https://localhost:8080/"
        },
        "outputId": "1b8750c4-a9c7-421d-f92a-964a69573c0a"
      },
      "outputs": [
        {
          "output_type": "stream",
          "name": "stdout",
          "text": [
            "Mounted at /content/drive\n"
          ]
        }
      ],
      "source": [
        "from google.colab import drive\n",
        "\n",
        "drive.mount('/content/drive') "
      ]
    },
    {
      "cell_type": "code",
      "execution_count": 2,
      "metadata": {
        "id": "iPsUvWt-vPlo"
      },
      "outputs": [],
      "source": [
        "import pandas as pd\n",
        "import numpy as np\n",
        "import seaborn as sns\n",
        "from matplotlib import pyplot as plt\n",
        "import warnings\n",
        "warnings.filterwarnings(action='ignore')"
      ]
    },
    {
      "cell_type": "code",
      "execution_count": 3,
      "metadata": {
        "id": "DQ4Huy-4v21X",
        "colab": {
          "base_uri": "https://localhost:8080/"
        },
        "outputId": "05cfa646-a59e-40bd-c145-f5a0ffcb0ffa"
      },
      "outputs": [
        {
          "output_type": "stream",
          "name": "stdout",
          "text": [
            "Archive:  drive/MyDrive/recommend.zip\n",
            "  inflating: data/sample_submission.csv  \n",
            "  inflating: data/test.csv           \n",
            "  inflating: data/train.csv          \n"
          ]
        }
      ],
      "source": [
        "!unzip drive/MyDrive/recommend.zip -d data/"
      ]
    },
    {
      "cell_type": "markdown",
      "metadata": {
        "id": "SwC-TmHJwSTL"
      },
      "source": [
        "## Load Data"
      ]
    },
    {
      "cell_type": "code",
      "execution_count": 4,
      "metadata": {
        "id": "BJ9gsTTCv92l"
      },
      "outputs": [],
      "source": [
        "train_pd = pd.read_csv('data/train.csv')\n",
        "test_pd = pd.read_csv('data/test.csv')\n",
        "submission = pd.read_csv('data/sample_submission.csv')"
      ]
    },
    {
      "cell_type": "code",
      "source": [
        "def get_splited_data(x):\n",
        "  return x.replace(' ','').strip().split(',')"
      ],
      "metadata": {
        "id": "PVASv9ktfg2y"
      },
      "execution_count": 5,
      "outputs": []
    },
    {
      "cell_type": "code",
      "source": [
        "#split Location column\n",
        "train_pd['city'] = train_pd.Location.apply(get_splited_data).str[0].astype('category')\n",
        "train_pd['state'] = train_pd.Location.apply(get_splited_data).str[1].astype('category')\n",
        "train_pd['country'] = train_pd.Location.apply(get_splited_data).str[2].astype('category')"
      ],
      "metadata": {
        "id": "0Tms_t8VePFf"
      },
      "execution_count": 39,
      "outputs": []
    },
    {
      "cell_type": "code",
      "execution_count": 40,
      "metadata": {
        "id": "k4Gk6tUwwKeM",
        "colab": {
          "base_uri": "https://localhost:8080/"
        },
        "outputId": "c0068ec3-2e89-4b40-a7dc-ee12945061b5"
      },
      "outputs": [
        {
          "output_type": "stream",
          "name": "stdout",
          "text": [
            "<class 'pandas.core.frame.DataFrame'>\n",
            "RangeIndex: 871393 entries, 0 to 871392\n",
            "Data columns (total 14 columns):\n",
            " #   Column               Non-Null Count   Dtype   \n",
            "---  ------               --------------   -----   \n",
            " 0   ID                   871393 non-null  object  \n",
            " 1   User-ID              871393 non-null  object  \n",
            " 2   Book-ID              871393 non-null  object  \n",
            " 3   Book-Rating          871393 non-null  int64   \n",
            " 4   Age                  871393 non-null  float64 \n",
            " 5   Location             871393 non-null  object  \n",
            " 6   Book-Title           871393 non-null  object  \n",
            " 7   Book-Author          871393 non-null  object  \n",
            " 8   Year-Of-Publication  871393 non-null  float64 \n",
            " 9   Publisher            871393 non-null  object  \n",
            " 10  city                 871393 non-null  category\n",
            " 11  state                871393 non-null  category\n",
            " 12  country              871393 non-null  category\n",
            " 13  Age_category         871393 non-null  int64   \n",
            "dtypes: category(3), float64(2), int64(2), object(7)\n",
            "memory usage: 78.8+ MB\n"
          ]
        }
      ],
      "source": [
        "train_pd.info()"
      ]
    },
    {
      "cell_type": "code",
      "source": [
        "#check Year-Of-Publication's data\n",
        "train_pd.loc[train_pd['Year-Of-Publication']==-1].groupby(['Book-ID']).count().sort_values('ID',ascending=False)"
      ],
      "metadata": {
        "colab": {
          "base_uri": "https://localhost:8080/",
          "height": 450
        },
        "id": "Z5goJOg2AX9d",
        "outputId": "e1eda877-cb42-4ec8-d76b-15729be55fe8"
      },
      "execution_count": 41,
      "outputs": [
        {
          "output_type": "execute_result",
          "data": {
            "text/plain": [
              "              ID  User-ID  Book-Rating  Age  Location  Book-Title  \\\n",
              "Book-ID                                                             \n",
              "BOOK_102531  180      180          180  180       180         180   \n",
              "BOOK_045458   90       90           90   90        90          90   \n",
              "BOOK_082346   87       87           87   87        87          87   \n",
              "BOOK_178258   71       71           71   71        71          71   \n",
              "BOOK_175634   63       63           63   63        63          63   \n",
              "...          ...      ...          ...  ...       ...         ...   \n",
              "BOOK_141751    1        1            1    1         1           1   \n",
              "BOOK_041502    1        1            1    1         1           1   \n",
              "BOOK_041452    1        1            1    1         1           1   \n",
              "BOOK_141981    1        1            1    1         1           1   \n",
              "BOOK_132069    1        1            1    1         1           1   \n",
              "\n",
              "             Book-Author  Year-Of-Publication  Publisher  city  state  \\\n",
              "Book-ID                                                                 \n",
              "BOOK_102531          180                  180        180   180    180   \n",
              "BOOK_045458           90                   90         90    90     90   \n",
              "BOOK_082346           87                   87         87    87     87   \n",
              "BOOK_178258           71                   71         71    71     71   \n",
              "BOOK_175634           63                   63         63    63     63   \n",
              "...                  ...                  ...        ...   ...    ...   \n",
              "BOOK_141751            1                    1          1     1      1   \n",
              "BOOK_041502            1                    1          1     1      1   \n",
              "BOOK_041452            1                    1          1     1      1   \n",
              "BOOK_141981            1                    1          1     1      1   \n",
              "BOOK_132069            1                    1          1     1      1   \n",
              "\n",
              "             country  Age_category  \n",
              "Book-ID                             \n",
              "BOOK_102531      180           180  \n",
              "BOOK_045458       90            90  \n",
              "BOOK_082346       87            87  \n",
              "BOOK_178258       71            71  \n",
              "BOOK_175634       63            63  \n",
              "...              ...           ...  \n",
              "BOOK_141751        1             1  \n",
              "BOOK_041502        1             1  \n",
              "BOOK_041452        1             1  \n",
              "BOOK_141981        1             1  \n",
              "BOOK_132069        1             1  \n",
              "\n",
              "[4089 rows x 13 columns]"
            ],
            "text/html": [
              "\n",
              "  <div id=\"df-905091c4-7020-4ae5-bdc6-374f01491ca4\">\n",
              "    <div class=\"colab-df-container\">\n",
              "      <div>\n",
              "<style scoped>\n",
              "    .dataframe tbody tr th:only-of-type {\n",
              "        vertical-align: middle;\n",
              "    }\n",
              "\n",
              "    .dataframe tbody tr th {\n",
              "        vertical-align: top;\n",
              "    }\n",
              "\n",
              "    .dataframe thead th {\n",
              "        text-align: right;\n",
              "    }\n",
              "</style>\n",
              "<table border=\"1\" class=\"dataframe\">\n",
              "  <thead>\n",
              "    <tr style=\"text-align: right;\">\n",
              "      <th></th>\n",
              "      <th>ID</th>\n",
              "      <th>User-ID</th>\n",
              "      <th>Book-Rating</th>\n",
              "      <th>Age</th>\n",
              "      <th>Location</th>\n",
              "      <th>Book-Title</th>\n",
              "      <th>Book-Author</th>\n",
              "      <th>Year-Of-Publication</th>\n",
              "      <th>Publisher</th>\n",
              "      <th>city</th>\n",
              "      <th>state</th>\n",
              "      <th>country</th>\n",
              "      <th>Age_category</th>\n",
              "    </tr>\n",
              "    <tr>\n",
              "      <th>Book-ID</th>\n",
              "      <th></th>\n",
              "      <th></th>\n",
              "      <th></th>\n",
              "      <th></th>\n",
              "      <th></th>\n",
              "      <th></th>\n",
              "      <th></th>\n",
              "      <th></th>\n",
              "      <th></th>\n",
              "      <th></th>\n",
              "      <th></th>\n",
              "      <th></th>\n",
              "      <th></th>\n",
              "    </tr>\n",
              "  </thead>\n",
              "  <tbody>\n",
              "    <tr>\n",
              "      <th>BOOK_102531</th>\n",
              "      <td>180</td>\n",
              "      <td>180</td>\n",
              "      <td>180</td>\n",
              "      <td>180</td>\n",
              "      <td>180</td>\n",
              "      <td>180</td>\n",
              "      <td>180</td>\n",
              "      <td>180</td>\n",
              "      <td>180</td>\n",
              "      <td>180</td>\n",
              "      <td>180</td>\n",
              "      <td>180</td>\n",
              "      <td>180</td>\n",
              "    </tr>\n",
              "    <tr>\n",
              "      <th>BOOK_045458</th>\n",
              "      <td>90</td>\n",
              "      <td>90</td>\n",
              "      <td>90</td>\n",
              "      <td>90</td>\n",
              "      <td>90</td>\n",
              "      <td>90</td>\n",
              "      <td>90</td>\n",
              "      <td>90</td>\n",
              "      <td>90</td>\n",
              "      <td>90</td>\n",
              "      <td>90</td>\n",
              "      <td>90</td>\n",
              "      <td>90</td>\n",
              "    </tr>\n",
              "    <tr>\n",
              "      <th>BOOK_082346</th>\n",
              "      <td>87</td>\n",
              "      <td>87</td>\n",
              "      <td>87</td>\n",
              "      <td>87</td>\n",
              "      <td>87</td>\n",
              "      <td>87</td>\n",
              "      <td>87</td>\n",
              "      <td>87</td>\n",
              "      <td>87</td>\n",
              "      <td>87</td>\n",
              "      <td>87</td>\n",
              "      <td>87</td>\n",
              "      <td>87</td>\n",
              "    </tr>\n",
              "    <tr>\n",
              "      <th>BOOK_178258</th>\n",
              "      <td>71</td>\n",
              "      <td>71</td>\n",
              "      <td>71</td>\n",
              "      <td>71</td>\n",
              "      <td>71</td>\n",
              "      <td>71</td>\n",
              "      <td>71</td>\n",
              "      <td>71</td>\n",
              "      <td>71</td>\n",
              "      <td>71</td>\n",
              "      <td>71</td>\n",
              "      <td>71</td>\n",
              "      <td>71</td>\n",
              "    </tr>\n",
              "    <tr>\n",
              "      <th>BOOK_175634</th>\n",
              "      <td>63</td>\n",
              "      <td>63</td>\n",
              "      <td>63</td>\n",
              "      <td>63</td>\n",
              "      <td>63</td>\n",
              "      <td>63</td>\n",
              "      <td>63</td>\n",
              "      <td>63</td>\n",
              "      <td>63</td>\n",
              "      <td>63</td>\n",
              "      <td>63</td>\n",
              "      <td>63</td>\n",
              "      <td>63</td>\n",
              "    </tr>\n",
              "    <tr>\n",
              "      <th>...</th>\n",
              "      <td>...</td>\n",
              "      <td>...</td>\n",
              "      <td>...</td>\n",
              "      <td>...</td>\n",
              "      <td>...</td>\n",
              "      <td>...</td>\n",
              "      <td>...</td>\n",
              "      <td>...</td>\n",
              "      <td>...</td>\n",
              "      <td>...</td>\n",
              "      <td>...</td>\n",
              "      <td>...</td>\n",
              "      <td>...</td>\n",
              "    </tr>\n",
              "    <tr>\n",
              "      <th>BOOK_141751</th>\n",
              "      <td>1</td>\n",
              "      <td>1</td>\n",
              "      <td>1</td>\n",
              "      <td>1</td>\n",
              "      <td>1</td>\n",
              "      <td>1</td>\n",
              "      <td>1</td>\n",
              "      <td>1</td>\n",
              "      <td>1</td>\n",
              "      <td>1</td>\n",
              "      <td>1</td>\n",
              "      <td>1</td>\n",
              "      <td>1</td>\n",
              "    </tr>\n",
              "    <tr>\n",
              "      <th>BOOK_041502</th>\n",
              "      <td>1</td>\n",
              "      <td>1</td>\n",
              "      <td>1</td>\n",
              "      <td>1</td>\n",
              "      <td>1</td>\n",
              "      <td>1</td>\n",
              "      <td>1</td>\n",
              "      <td>1</td>\n",
              "      <td>1</td>\n",
              "      <td>1</td>\n",
              "      <td>1</td>\n",
              "      <td>1</td>\n",
              "      <td>1</td>\n",
              "    </tr>\n",
              "    <tr>\n",
              "      <th>BOOK_041452</th>\n",
              "      <td>1</td>\n",
              "      <td>1</td>\n",
              "      <td>1</td>\n",
              "      <td>1</td>\n",
              "      <td>1</td>\n",
              "      <td>1</td>\n",
              "      <td>1</td>\n",
              "      <td>1</td>\n",
              "      <td>1</td>\n",
              "      <td>1</td>\n",
              "      <td>1</td>\n",
              "      <td>1</td>\n",
              "      <td>1</td>\n",
              "    </tr>\n",
              "    <tr>\n",
              "      <th>BOOK_141981</th>\n",
              "      <td>1</td>\n",
              "      <td>1</td>\n",
              "      <td>1</td>\n",
              "      <td>1</td>\n",
              "      <td>1</td>\n",
              "      <td>1</td>\n",
              "      <td>1</td>\n",
              "      <td>1</td>\n",
              "      <td>1</td>\n",
              "      <td>1</td>\n",
              "      <td>1</td>\n",
              "      <td>1</td>\n",
              "      <td>1</td>\n",
              "    </tr>\n",
              "    <tr>\n",
              "      <th>BOOK_132069</th>\n",
              "      <td>1</td>\n",
              "      <td>1</td>\n",
              "      <td>1</td>\n",
              "      <td>1</td>\n",
              "      <td>1</td>\n",
              "      <td>1</td>\n",
              "      <td>1</td>\n",
              "      <td>1</td>\n",
              "      <td>1</td>\n",
              "      <td>1</td>\n",
              "      <td>1</td>\n",
              "      <td>1</td>\n",
              "      <td>1</td>\n",
              "    </tr>\n",
              "  </tbody>\n",
              "</table>\n",
              "<p>4089 rows × 13 columns</p>\n",
              "</div>\n",
              "      <button class=\"colab-df-convert\" onclick=\"convertToInteractive('df-905091c4-7020-4ae5-bdc6-374f01491ca4')\"\n",
              "              title=\"Convert this dataframe to an interactive table.\"\n",
              "              style=\"display:none;\">\n",
              "        \n",
              "  <svg xmlns=\"http://www.w3.org/2000/svg\" height=\"24px\"viewBox=\"0 0 24 24\"\n",
              "       width=\"24px\">\n",
              "    <path d=\"M0 0h24v24H0V0z\" fill=\"none\"/>\n",
              "    <path d=\"M18.56 5.44l.94 2.06.94-2.06 2.06-.94-2.06-.94-.94-2.06-.94 2.06-2.06.94zm-11 1L8.5 8.5l.94-2.06 2.06-.94-2.06-.94L8.5 2.5l-.94 2.06-2.06.94zm10 10l.94 2.06.94-2.06 2.06-.94-2.06-.94-.94-2.06-.94 2.06-2.06.94z\"/><path d=\"M17.41 7.96l-1.37-1.37c-.4-.4-.92-.59-1.43-.59-.52 0-1.04.2-1.43.59L10.3 9.45l-7.72 7.72c-.78.78-.78 2.05 0 2.83L4 21.41c.39.39.9.59 1.41.59.51 0 1.02-.2 1.41-.59l7.78-7.78 2.81-2.81c.8-.78.8-2.07 0-2.86zM5.41 20L4 18.59l7.72-7.72 1.47 1.35L5.41 20z\"/>\n",
              "  </svg>\n",
              "      </button>\n",
              "      \n",
              "  <style>\n",
              "    .colab-df-container {\n",
              "      display:flex;\n",
              "      flex-wrap:wrap;\n",
              "      gap: 12px;\n",
              "    }\n",
              "\n",
              "    .colab-df-convert {\n",
              "      background-color: #E8F0FE;\n",
              "      border: none;\n",
              "      border-radius: 50%;\n",
              "      cursor: pointer;\n",
              "      display: none;\n",
              "      fill: #1967D2;\n",
              "      height: 32px;\n",
              "      padding: 0 0 0 0;\n",
              "      width: 32px;\n",
              "    }\n",
              "\n",
              "    .colab-df-convert:hover {\n",
              "      background-color: #E2EBFA;\n",
              "      box-shadow: 0px 1px 2px rgba(60, 64, 67, 0.3), 0px 1px 3px 1px rgba(60, 64, 67, 0.15);\n",
              "      fill: #174EA6;\n",
              "    }\n",
              "\n",
              "    [theme=dark] .colab-df-convert {\n",
              "      background-color: #3B4455;\n",
              "      fill: #D2E3FC;\n",
              "    }\n",
              "\n",
              "    [theme=dark] .colab-df-convert:hover {\n",
              "      background-color: #434B5C;\n",
              "      box-shadow: 0px 1px 3px 1px rgba(0, 0, 0, 0.15);\n",
              "      filter: drop-shadow(0px 1px 2px rgba(0, 0, 0, 0.3));\n",
              "      fill: #FFFFFF;\n",
              "    }\n",
              "  </style>\n",
              "\n",
              "      <script>\n",
              "        const buttonEl =\n",
              "          document.querySelector('#df-905091c4-7020-4ae5-bdc6-374f01491ca4 button.colab-df-convert');\n",
              "        buttonEl.style.display =\n",
              "          google.colab.kernel.accessAllowed ? 'block' : 'none';\n",
              "\n",
              "        async function convertToInteractive(key) {\n",
              "          const element = document.querySelector('#df-905091c4-7020-4ae5-bdc6-374f01491ca4');\n",
              "          const dataTable =\n",
              "            await google.colab.kernel.invokeFunction('convertToInteractive',\n",
              "                                                     [key], {});\n",
              "          if (!dataTable) return;\n",
              "\n",
              "          const docLinkHtml = 'Like what you see? Visit the ' +\n",
              "            '<a target=\"_blank\" href=https://colab.research.google.com/notebooks/data_table.ipynb>data table notebook</a>'\n",
              "            + ' to learn more about interactive tables.';\n",
              "          element.innerHTML = '';\n",
              "          dataTable['output_type'] = 'display_data';\n",
              "          await google.colab.output.renderOutput(dataTable, element);\n",
              "          const docLink = document.createElement('div');\n",
              "          docLink.innerHTML = docLinkHtml;\n",
              "          element.appendChild(docLink);\n",
              "        }\n",
              "      </script>\n",
              "    </div>\n",
              "  </div>\n",
              "  "
            ]
          },
          "metadata": {},
          "execution_count": 41
        }
      ]
    },
    {
      "cell_type": "markdown",
      "metadata": {
        "id": "6igJgWv2di21"
      },
      "source": [
        "## EDA"
      ]
    },
    {
      "cell_type": "markdown",
      "metadata": {
        "id": "bmnpijb8g532"
      },
      "source": [
        "### Country Distribution"
      ]
    },
    {
      "cell_type": "code",
      "source": [
        "train_pd.city.cat.categories"
      ],
      "metadata": {
        "colab": {
          "base_uri": "https://localhost:8080/"
        },
        "id": "YXNtO2UrzGvb",
        "outputId": "051d451d-e922-4769-92e3-0824365f99ac"
      },
      "execution_count": 46,
      "outputs": [
        {
          "output_type": "execute_result",
          "data": {
            "text/plain": [
              "Index(['', '&#304;stanbul', '&#321;ód&#378;', '&#36149;&#28207;', '*',\n",
              "       '***********', '-', '--', '-----', '---------',\n",
              "       ...\n",
              "       'århus', 'århusv', 'élmédano', 'évora', 'óbidos', 'öhringen', 'örebro',\n",
              "       'øverbygd', 'überallstadt', 'ýzmir'],\n",
              "      dtype='object', length=13635)"
            ]
          },
          "metadata": {},
          "execution_count": 46
        }
      ]
    },
    {
      "cell_type": "code",
      "source": [
        "train_pd.state.cat.categories"
      ],
      "metadata": {
        "colab": {
          "base_uri": "https://localhost:8080/"
        },
        "id": "-cLjCvEvzRj_",
        "outputId": "452a6ca6-c6c9-4da0-befe-761a5cf7a4d2"
      },
      "execution_count": 47,
      "outputs": [
        {
          "output_type": "execute_result",
          "data": {
            "text/plain": [
              "Index(['', '\"n/a', '\"n/a\"', '\"n/a\".', '\"n/a\".)', '\"n/a`', '&#24191;&#35199;',\n",
              "       '&#322;ódzkie', '(alacant)', '(porto)',\n",
              "       ...\n",
              "       'zurich', 'zürcherunterland', 'zürich', 'álava', 'îledefrance',\n",
              "       'östergötland', 'østfold', 'østjylland', 'østlandet', 'ýçanadolu'],\n",
              "      dtype='object', length=1787)"
            ]
          },
          "metadata": {},
          "execution_count": 47
        }
      ]
    },
    {
      "cell_type": "code",
      "source": [
        "train_pd.country.cat.categories"
      ],
      "metadata": {
        "colab": {
          "base_uri": "https://localhost:8080/"
        },
        "id": "t6x4z0GezEk7",
        "outputId": "9da52aeb-8ef5-4f47-a830-64043ba566cc"
      },
      "execution_count": 45,
      "outputs": [
        {
          "output_type": "execute_result",
          "data": {
            "text/plain": [
              "Index(['', '\"n/a\"', '61men', 'aberdeenshire', 'afghanistan', 'alabama',\n",
              "       'alachua', 'alaska', 'albania', 'alberta',\n",
              "       ...\n",
              "       'wisconsin', 'worcester', 'x', 'ysa', 'yu-song', 'yugoslavia', 'zambia',\n",
              "       'zapopan', 'zimbabwe', 'álava'],\n",
              "      dtype='object', length=347)"
            ]
          },
          "metadata": {},
          "execution_count": 45
        }
      ]
    },
    {
      "cell_type": "code",
      "source": [
        "list(train_pd.country.cat.categories)"
      ],
      "metadata": {
        "colab": {
          "base_uri": "https://localhost:8080/"
        },
        "id": "q0ZLmWgAzh_G",
        "outputId": "61f96855-fd2e-4236-88f1-d82e3a4ecfcf"
      },
      "execution_count": 48,
      "outputs": [
        {
          "output_type": "execute_result",
          "data": {
            "text/plain": [
              "['',\n",
              " '\"n/a\"',\n",
              " '61men',\n",
              " 'aberdeenshire',\n",
              " 'afghanistan',\n",
              " 'alabama',\n",
              " 'alachua',\n",
              " 'alaska',\n",
              " 'albania',\n",
              " 'alberta',\n",
              " 'alderney',\n",
              " 'algeria',\n",
              " 'almería',\n",
              " 'america',\n",
              " 'andalucia',\n",
              " 'andorra',\n",
              " 'antarctica',\n",
              " 'antiguaandbarbuda',\n",
              " 'argentina',\n",
              " 'arizona',\n",
              " 'arkansas',\n",
              " 'aroostook',\n",
              " 'aruba',\n",
              " 'austin',\n",
              " 'australia',\n",
              " 'australiancapitalterritory',\n",
              " 'austria',\n",
              " 'baden-wuerttemberg',\n",
              " 'bahamas',\n",
              " 'bahrain',\n",
              " 'bangladesh',\n",
              " 'barbados',\n",
              " 'bayern',\n",
              " 'bc',\n",
              " 'belgium',\n",
              " 'belize',\n",
              " 'benin',\n",
              " 'berguedà',\n",
              " 'berlin',\n",
              " 'bermuda',\n",
              " 'bolivia',\n",
              " 'bosniaandherzegovina',\n",
              " 'bourgogne',\n",
              " 'brazil',\n",
              " 'britishcolumbia',\n",
              " 'brunei',\n",
              " 'bulgaria',\n",
              " 'burkinafaso',\n",
              " 'burlington',\n",
              " 'burma',\n",
              " 'c',\n",
              " 'ca.',\n",
              " 'california',\n",
              " 'cambodia',\n",
              " 'cambridgeshire',\n",
              " 'camden',\n",
              " 'cameroon',\n",
              " 'canada',\n",
              " 'cananda',\n",
              " 'canaryislands',\n",
              " 'capeverde',\n",
              " 'caribbeansea',\n",
              " 'catalonia',\n",
              " 'catalunya',\n",
              " 'catalunyaspain',\n",
              " 'caymanislands',\n",
              " 'cherokee',\n",
              " 'chile',\n",
              " 'china',\n",
              " 'co.carlow',\n",
              " 'collin',\n",
              " 'colombia',\n",
              " 'colorado',\n",
              " 'connecticut',\n",
              " 'costarica',\n",
              " 'countycork',\n",
              " 'countygalway',\n",
              " 'croatia',\n",
              " 'csa',\n",
              " 'cuba',\n",
              " 'cyprus',\n",
              " 'czechrepublic',\n",
              " 'd.c.',\n",
              " 'dc',\n",
              " 'denmark',\n",
              " 'deutschland',\n",
              " 'disritofederal',\n",
              " 'districtofcolumbia',\n",
              " 'dominicanrepublic',\n",
              " 'ecuador',\n",
              " 'ee.uu',\n",
              " 'egypt',\n",
              " 'elsalvador',\n",
              " 'england',\n",
              " 'españa',\n",
              " 'estonia',\n",
              " 'etelä-suomi',\n",
              " 'ethiopia',\n",
              " 'eu',\n",
              " 'euskalherria',\n",
              " 'everywhereandanywhere',\n",
              " 'faraway...',\n",
              " 'ferrara',\n",
              " 'fiji',\n",
              " 'finland',\n",
              " 'florida',\n",
              " 'fortbend',\n",
              " 'framingham',\n",
              " 'france',\n",
              " 'franciscomorazan',\n",
              " 'gabon',\n",
              " 'galiza',\n",
              " 'galizaneghra',\n",
              " 'gambia',\n",
              " 'georgia',\n",
              " 'germany',\n",
              " 'ghana',\n",
              " 'gipuzkoa',\n",
              " 'greece',\n",
              " 'grenada',\n",
              " 'guatemala',\n",
              " 'guernsey',\n",
              " 'guinea',\n",
              " 'guinea-bissau',\n",
              " 'hagiwara',\n",
              " 'haiti',\n",
              " 'hawaii',\n",
              " 'hereandthere',\n",
              " 'hernando',\n",
              " 'honduras',\n",
              " 'hongkong',\n",
              " 'hungary',\n",
              " 'hungaryandusa',\n",
              " 'iceland',\n",
              " 'idaho',\n",
              " 'iledefrance',\n",
              " 'illinois',\n",
              " 'india',\n",
              " 'indiana',\n",
              " 'indonesia',\n",
              " 'ineurope',\n",
              " 'iran',\n",
              " 'iraq',\n",
              " 'ireland',\n",
              " 'israel',\n",
              " 'italia',\n",
              " 'italy',\n",
              " 'jamaica',\n",
              " 'japan',\n",
              " 'jersey',\n",
              " 'k1c7b1',\n",
              " 'kansas',\n",
              " 'kazakhstan',\n",
              " 'kedah',\n",
              " 'kenya',\n",
              " 'kern',\n",
              " 'kuwait',\n",
              " 'l`italia',\n",
              " 'labelgique',\n",
              " 'lachineéternelle!',\n",
              " 'lafrance',\n",
              " 'laos',\n",
              " 'latvia',\n",
              " 'lebanon',\n",
              " 'lithuania',\n",
              " 'lkammerland',\n",
              " 'lleida',\n",
              " 'losestadosunidosdenorteamerica',\n",
              " 'luxembourg',\n",
              " 'macau',\n",
              " 'macedonia',\n",
              " 'madagascar',\n",
              " 'madrid',\n",
              " 'maine',\n",
              " 'malaysia',\n",
              " 'malta',\n",
              " 'maricopa',\n",
              " 'marshallislands',\n",
              " 'maryland',\n",
              " 'massachusetts',\n",
              " 'mauritius',\n",
              " 'metromanila',\n",
              " 'mexico',\n",
              " 'michigan',\n",
              " 'middlesex',\n",
              " 'minnesota',\n",
              " 'missouri',\n",
              " 'moldova',\n",
              " 'monaco',\n",
              " 'mongolia',\n",
              " 'montana',\n",
              " 'morgan',\n",
              " 'morocco',\n",
              " 'mozambique',\n",
              " 'n/a',\n",
              " 'n/a-ontheroad',\n",
              " 'nebraska',\n",
              " 'nepal',\n",
              " 'netherlands',\n",
              " 'nevada',\n",
              " 'newbrunswick',\n",
              " 'newfoundland',\n",
              " 'newhampshire',\n",
              " 'newjersey',\n",
              " 'newmexico',\n",
              " 'newsouthwales',\n",
              " 'newyork',\n",
              " 'newzealand',\n",
              " 'niedersachsen',\n",
              " 'niger',\n",
              " 'nigeria',\n",
              " 'northcarolina',\n",
              " 'northdakota',\n",
              " 'northsumatera',\n",
              " 'northyorkshire',\n",
              " 'norway',\n",
              " 'novascotia',\n",
              " 'nz',\n",
              " 'oeiras',\n",
              " 'ohio',\n",
              " 'okinawa',\n",
              " 'oklahoma',\n",
              " 'oman',\n",
              " 'onondaganation',\n",
              " 'ontario',\n",
              " 'oregon',\n",
              " 'orense',\n",
              " 'otago',\n",
              " 'paisvasco',\n",
              " 'pakistan',\n",
              " 'palau',\n",
              " 'panama',\n",
              " 'papuanewguinea',\n",
              " 'paraguay',\n",
              " 'paris',\n",
              " 'pender',\n",
              " 'pennsylvania',\n",
              " 'peru',\n",
              " 'petrolwarnation',\n",
              " 'philippines',\n",
              " 'phillipines',\n",
              " 'poland',\n",
              " 'polk',\n",
              " 'pontevedra',\n",
              " 'portugal',\n",
              " 'princewilliam',\n",
              " 'puertorico',\n",
              " 'qatar',\n",
              " 'quebec',\n",
              " 'queensland',\n",
              " 'quit',\n",
              " 'rhodeisland',\n",
              " 'richmondcountry',\n",
              " 'romania',\n",
              " 'russia',\n",
              " 'rutherford',\n",
              " 'rwanda',\n",
              " 'saintloius',\n",
              " 'saintlucia',\n",
              " 'sanmateo',\n",
              " 'saskatchewan',\n",
              " 'saudiarabia',\n",
              " 'scotland',\n",
              " 'seoul',\n",
              " 'shanghai',\n",
              " 'shelby',\n",
              " 'singapore',\n",
              " 'slovakia',\n",
              " 'slovenia',\n",
              " 'solomonislands',\n",
              " 'southafrica',\n",
              " 'southaustralia',\n",
              " 'southdakota',\n",
              " 'southisland',\n",
              " 'southkorea',\n",
              " 'space',\n",
              " 'spain',\n",
              " 'srilanka',\n",
              " 'st.gallen',\n",
              " 'st.helena',\n",
              " 'st.thomasi',\n",
              " 'stadt',\n",
              " 'sweden',\n",
              " 'switzerland',\n",
              " 'syria',\n",
              " 'taiwan',\n",
              " 'tajikistan',\n",
              " 'tanzania',\n",
              " 'tasmania',\n",
              " 'tdzimi',\n",
              " 'tennessee',\n",
              " 'texas',\n",
              " 'thailand',\n",
              " 'thegreatwhitenorth',\n",
              " 'tn',\n",
              " 'travelling....',\n",
              " 'trinidadandtobago',\n",
              " 'tunisia',\n",
              " 'turkey',\n",
              " 'turkmenistan',\n",
              " 'u.a.e',\n",
              " 'u.k.',\n",
              " 'u.s.a.',\n",
              " 'u.s.ofa.',\n",
              " 'u.s>',\n",
              " 'uganda',\n",
              " 'uk',\n",
              " 'ukraine',\n",
              " 'unitedarabemirates',\n",
              " 'unitedkindgonm',\n",
              " 'unitedkingdom',\n",
              " 'unitedsates',\n",
              " 'unitedstaes',\n",
              " 'unitedstate',\n",
              " 'unitedstates',\n",
              " 'universe',\n",
              " 'unknown',\n",
              " 'urugua',\n",
              " 'uruguay',\n",
              " 'us',\n",
              " 'usa',\n",
              " 'usa(currentlylivinginengland)',\n",
              " 'usanow',\n",
              " 'uzbekistan',\n",
              " 'v9v1h4',\n",
              " 'vanwert',\n",
              " 'veneziagiulia',\n",
              " 'venezuela',\n",
              " 'venturacounty',\n",
              " 'victoria',\n",
              " 'vietnam',\n",
              " 'virginia',\n",
              " 'wales',\n",
              " 'washington',\n",
              " 'we`reglobal!',\n",
              " 'westindies',\n",
              " 'westyorkshire',\n",
              " 'wisconsin',\n",
              " 'worcester',\n",
              " 'x',\n",
              " 'ysa',\n",
              " 'yu-song',\n",
              " 'yugoslavia',\n",
              " 'zambia',\n",
              " 'zapopan',\n",
              " 'zimbabwe',\n",
              " 'álava']"
            ]
          },
          "metadata": {},
          "execution_count": 48
        }
      ]
    },
    {
      "cell_type": "code",
      "source": [
        "train_pd.loc[(train_pd.city == 'n/a')|(train_pd.city=='')].count()"
      ],
      "metadata": {
        "colab": {
          "base_uri": "https://localhost:8080/"
        },
        "id": "zNDPeaOAyCok",
        "outputId": "7f10ed43-59d4-4fd8-f5c4-b167f0bc36bb"
      },
      "execution_count": 42,
      "outputs": [
        {
          "output_type": "execute_result",
          "data": {
            "text/plain": [
              "ID                     13972\n",
              "User-ID                13972\n",
              "Book-ID                13972\n",
              "Book-Rating            13972\n",
              "Age                    13972\n",
              "Location               13972\n",
              "Book-Title             13972\n",
              "Book-Author            13972\n",
              "Year-Of-Publication    13972\n",
              "Publisher              13972\n",
              "city                   13972\n",
              "state                  13972\n",
              "country                13972\n",
              "Age_category           13972\n",
              "dtype: int64"
            ]
          },
          "metadata": {},
          "execution_count": 42
        }
      ]
    },
    {
      "cell_type": "code",
      "source": [
        "train_pd.loc[(train_pd.state== 'n/a')|(train_pd.state=='')].count()"
      ],
      "metadata": {
        "colab": {
          "base_uri": "https://localhost:8080/"
        },
        "id": "9br7Zk3hyGvU",
        "outputId": "fe3fd5a1-a72f-406c-a221-af20111ff22e"
      },
      "execution_count": 37,
      "outputs": [
        {
          "output_type": "execute_result",
          "data": {
            "text/plain": [
              "ID                     36986\n",
              "User-ID                36986\n",
              "Book-ID                36986\n",
              "Book-Rating            36986\n",
              "Age                    36986\n",
              "Location               36986\n",
              "Book-Title             36986\n",
              "Book-Author            36986\n",
              "Year-Of-Publication    36986\n",
              "Publisher              36986\n",
              "city                   36986\n",
              "state                  36986\n",
              "country                36986\n",
              "Age_category           36986\n",
              "dtype: int64"
            ]
          },
          "metadata": {},
          "execution_count": 37
        }
      ]
    },
    {
      "cell_type": "code",
      "source": [
        "train_pd.loc[(train_pd.country == 'n/a')|(train_pd.country=='')].count()"
      ],
      "metadata": {
        "colab": {
          "base_uri": "https://localhost:8080/"
        },
        "id": "SuUmp7w7xQTx",
        "outputId": "07610f80-a480-4080-868b-7e9a006a87a4"
      },
      "execution_count": 34,
      "outputs": [
        {
          "output_type": "execute_result",
          "data": {
            "text/plain": [
              "ID                     32324\n",
              "User-ID                32324\n",
              "Book-ID                32324\n",
              "Book-Rating            32324\n",
              "Age                    32324\n",
              "Location               32324\n",
              "Book-Title             32324\n",
              "Book-Author            32324\n",
              "Year-Of-Publication    32324\n",
              "Publisher              32324\n",
              "city                   32324\n",
              "state                  32324\n",
              "country                32324\n",
              "Age_category           32324\n",
              "dtype: int64"
            ]
          },
          "metadata": {},
          "execution_count": 34
        }
      ]
    },
    {
      "cell_type": "markdown",
      "source": [
        "### check\n",
        "- There are so many meaningless values each column(country,city,state)\n",
        "  - Especially in 'city' columns\n",
        "- I'll take only preprocessed 'country' column for modeling\n",
        "- preprocessing\n",
        "  - unifying meaningless values\n",
        "    - definition of meaningless value: Null value or value that only a few people have\n",
        "  - encoding\n",
        "  "
      ],
      "metadata": {
        "id": "IwoqxBUlzdHG"
      }
    },
    {
      "cell_type": "markdown",
      "source": [
        "# Feature Engineering"
      ],
      "metadata": {
        "id": "sc8IOwpCUFfF"
      }
    },
    {
      "cell_type": "markdown",
      "source": [
        "## Age Categorization\n",
        "- 0: 0~9\n",
        "- 1: 10~19\n",
        "- 2: 20~29\n",
        "- ...\n",
        "- 8: 80 ~"
      ],
      "metadata": {
        "id": "UtN9ACfAvxJQ"
      }
    },
    {
      "cell_type": "code",
      "source": [
        "def get_age_category(age):\n",
        "  if age >= 80:\n",
        "    return 8\n",
        "  else:\n",
        "    return int(age*0.1)\n",
        "\n",
        "\n",
        "Age_category = train_pd.Age.apply(get_age_category)"
      ],
      "metadata": {
        "id": "-7SVvJSyvvgw"
      },
      "execution_count": 10,
      "outputs": []
    },
    {
      "cell_type": "code",
      "source": [
        "train_pd['Age_category'] = Age_category"
      ],
      "metadata": {
        "id": "efO2BndEwRl-"
      },
      "execution_count": 11,
      "outputs": []
    },
    {
      "cell_type": "markdown",
      "source": [
        "## "
      ],
      "metadata": {
        "id": "wtxpWxRPwbiu"
      }
    },
    {
      "cell_type": "markdown",
      "source": [
        "## Segmentation of Zero Book-Rating \n",
        "- hypothesis: A zero Rating would have three meanings\n",
        "  1. pessimist's rating\n",
        "    - it might not be a terrible book\n",
        "  2. optimist or normal person's rating\n",
        "    - it means that 'this book is terrible'\n",
        "  3. None\n",
        "    - forgot to rate it or maybe it was a mistake..?\n"
      ],
      "metadata": {
        "id": "SGjSRgPpHAAN"
      }
    },
    {
      "cell_type": "markdown",
      "source": [
        "### zero rating ratio of each reader"
      ],
      "metadata": {
        "id": "chHYAIwEM2JA"
      }
    },
    {
      "cell_type": "code",
      "source": [
        "train_pd['is_zero'] = (train_pd['Book-Rating'] == 0).astype(int)"
      ],
      "metadata": {
        "id": "27HnxWDDL7Ri"
      },
      "execution_count": null,
      "outputs": []
    },
    {
      "cell_type": "code",
      "source": [
        "seg_pd = train_pd[['is_zero','User-ID']].groupby('User-ID').agg(is_zero_count = ('is_zero','count'),\n",
        " is_zero_sum = ('is_zero','sum'))"
      ],
      "metadata": {
        "id": "gjTJsa_eiab8"
      },
      "execution_count": null,
      "outputs": []
    },
    {
      "cell_type": "code",
      "source": [
        "seg_pd['zero_ratio'] = seg_pd['is_zero_sum']/seg_pd['is_zero_count']"
      ],
      "metadata": {
        "id": "2GS8upIAMyyd"
      },
      "execution_count": null,
      "outputs": []
    },
    {
      "cell_type": "code",
      "source": [
        "sns.kdeplot(x='zero_ratio', data=seg_pd.loc[seg_pd['is_zero_count']>3])\n",
        "plt.show()"
      ],
      "metadata": {
        "id": "ZMsNXBdXN9S4"
      },
      "execution_count": null,
      "outputs": []
    },
    {
      "cell_type": "code",
      "source": [
        "seg_pd.loc[seg_pd['is_zero_count']>3].describe()"
      ],
      "metadata": {
        "id": "owlxsh4kOcTE"
      },
      "execution_count": null,
      "outputs": []
    },
    {
      "cell_type": "code",
      "source": [
        "seg_pd.info()"
      ],
      "metadata": {
        "id": "5eU9cupvhyHi"
      },
      "execution_count": null,
      "outputs": []
    },
    {
      "cell_type": "markdown",
      "source": [
        "### who is pessimist?\n",
        "  - who gave zero ratings to almost every read book they read (maybe over 80% of books they read)\n",
        "    "
      ],
      "metadata": {
        "id": "e_mSB4dMIE1c"
      }
    },
    {
      "cell_type": "code",
      "source": [
        "seg_pd['is_pessimist'] = ((seg_pd['is_zero_count'] >3) & (seg_pd['zero_ratio']>=0.8)).astype(int)"
      ],
      "metadata": {
        "id": "VsM12yNTRQaO"
      },
      "execution_count": null,
      "outputs": []
    },
    {
      "cell_type": "code",
      "source": [
        "seg_pd.loc[seg_pd.is_pessimist == 1]"
      ],
      "metadata": {
        "id": "tfc-glm3ShDG"
      },
      "execution_count": null,
      "outputs": []
    },
    {
      "cell_type": "code",
      "source": [
        "merge_pd = pd.merge(seg_pd.reset_index(),train_pd,how='right',on='User-ID').fillna(0)"
      ],
      "metadata": {
        "id": "4h13ZNY_Sq2Y"
      },
      "execution_count": null,
      "outputs": []
    },
    {
      "cell_type": "code",
      "source": [
        "merge_pd"
      ],
      "metadata": {
        "id": "v8o1C6TIT7ty"
      },
      "execution_count": null,
      "outputs": []
    },
    {
      "cell_type": "markdown",
      "source": [
        "## User info Aggregation"
      ],
      "metadata": {
        "id": "Ylom7heBjUdE"
      }
    },
    {
      "cell_type": "code",
      "source": [
        "user_info = merge_pd.groupby('User-ID').agg(user_count=('ID','count'),\n",
        "                                            user_median = ('Book-Rating','median'),\n",
        "                                            user_mad = ('Book-Rating', 'mad'),\n",
        "                                            )"
      ],
      "metadata": {
        "id": "ehomOTxkjZSc"
      },
      "execution_count": null,
      "outputs": []
    },
    {
      "cell_type": "code",
      "source": [
        "user_info"
      ],
      "metadata": {
        "id": "dQDFIFoGlVJ3"
      },
      "execution_count": null,
      "outputs": []
    },
    {
      "cell_type": "code",
      "source": [
        "user_info.reset_index(inplace=True)\n",
        "user_info"
      ],
      "metadata": {
        "id": "QXJtfMUkleSy"
      },
      "execution_count": null,
      "outputs": []
    },
    {
      "cell_type": "markdown",
      "source": [
        "## Book info Aggregation"
      ],
      "metadata": {
        "id": "-NdU-Codjapc"
      }
    },
    {
      "cell_type": "code",
      "source": [
        "book_info = merge_pd.groupby('Book-ID').agg(book_count=('ID','count'),\n",
        "                                            book_median = ('Book-Rating','median'),\n",
        "                                            book_mad = ('Book-Rating', 'mad'),\n",
        "                                            )"
      ],
      "metadata": {
        "id": "t-ZBhBlHjaRM"
      },
      "execution_count": null,
      "outputs": []
    },
    {
      "cell_type": "code",
      "source": [
        "book_info.reset_index(inplace=True)\n",
        "book_info"
      ],
      "metadata": {
        "id": "w0oQclzClXNH"
      },
      "execution_count": null,
      "outputs": []
    },
    {
      "cell_type": "code",
      "source": [
        "merge_pd2 = pd.merge(pd.merge(merge_pd, user_info, how='left', on='User-ID'), book_info, how='left', on='Book-ID')"
      ],
      "metadata": {
        "id": "DoMpX_BFli5G"
      },
      "execution_count": null,
      "outputs": []
    },
    {
      "cell_type": "code",
      "source": [
        "merge_pd2"
      ],
      "metadata": {
        "id": "RwUrWta1lyo-"
      },
      "execution_count": null,
      "outputs": []
    },
    {
      "cell_type": "markdown",
      "source": [
        "# Modeling"
      ],
      "metadata": {
        "id": "KQNpigRdXJGi"
      }
    },
    {
      "cell_type": "code",
      "source": [
        "merge_pd2.info()"
      ],
      "metadata": {
        "id": "CezIz5_OhPy-"
      },
      "execution_count": null,
      "outputs": []
    },
    {
      "cell_type": "markdown",
      "source": [
        "### check consistency"
      ],
      "metadata": {
        "id": "I9e_PePbrun1"
      }
    },
    {
      "cell_type": "code",
      "source": [
        "merge_pd2.loc[merge_pd2.is_zero_count != merge_pd2.user_count]"
      ],
      "metadata": {
        "id": "H55uglLVnLsg"
      },
      "execution_count": null,
      "outputs": []
    },
    {
      "cell_type": "markdown",
      "source": [
        "### check duplications"
      ],
      "metadata": {
        "id": "RtbBZYW1rrhX"
      }
    },
    {
      "cell_type": "code",
      "source": [
        "merge_pd2.groupby('ID').agg(count=('ID', 'count')).sort_values('count', ascending=False)"
      ],
      "metadata": {
        "id": "D85AjoGDmnrg"
      },
      "execution_count": null,
      "outputs": []
    },
    {
      "cell_type": "markdown",
      "source": [
        "### split data set"
      ],
      "metadata": {
        "id": "LSVm9iytrxCE"
      }
    },
    {
      "cell_type": "code",
      "source": [
        "feature_cols = ['is_zero_sum','is_pessimist', 'Age', 'Age_category', 'user_count','user_median','user_mad', 'book_count','book_median','book_mad' ]\n",
        "target_pd = merge_pd2[['ID']+feature_cols+['Book-Rating']]"
      ],
      "metadata": {
        "id": "fS5yp6zqXKQe"
      },
      "execution_count": null,
      "outputs": []
    },
    {
      "cell_type": "code",
      "source": [
        "target_pd"
      ],
      "metadata": {
        "id": "HDBLAQMentUn"
      },
      "execution_count": null,
      "outputs": []
    },
    {
      "cell_type": "code",
      "source": [
        "X = target_pd[feature_cols]\n",
        "y= target_pd['Book-Rating']"
      ],
      "metadata": {
        "id": "r_7JdrvmoQVB"
      },
      "execution_count": null,
      "outputs": []
    },
    {
      "cell_type": "code",
      "source": [
        "N = 710"
      ],
      "metadata": {
        "id": "qvDMTYWqsl1b"
      },
      "execution_count": null,
      "outputs": []
    },
    {
      "cell_type": "code",
      "source": [
        "from sklearn.model_selection import StratifiedShuffleSplit\n",
        "split = StratifiedShuffleSplit(n_splits=1, test_size=0.2, random_state= N)\n",
        "for train_index, test_index in split.split(X,y):\n",
        "    train_set = target_pd.loc[train_index]\n",
        "    valid_set = target_pd.loc[test_index]"
      ],
      "metadata": {
        "id": "6PkJ3_d6nurX"
      },
      "execution_count": null,
      "outputs": []
    },
    {
      "cell_type": "markdown",
      "source": [
        "#### check the distribution of train and valid set"
      ],
      "metadata": {
        "id": "HYxsDy-Jr1UY"
      }
    },
    {
      "cell_type": "code",
      "source": [
        "plt.figure(figsize=(10,5))\n",
        "sns.kdeplot(valid_set[['Book-Rating']],  shade=True)\n",
        "sns.kdeplot(train_set[['Book-Rating']],  shade=True)\n",
        "plt.show()"
      ],
      "metadata": {
        "id": "mlbg0NlPp9TU"
      },
      "execution_count": null,
      "outputs": []
    },
    {
      "cell_type": "markdown",
      "source": [
        "### Train"
      ],
      "metadata": {
        "id": "L20ppb4Er6ls"
      }
    },
    {
      "cell_type": "code",
      "source": [
        "import xgboost as xgb\n",
        "from xgboost import plot_importance \n",
        "# # XGBoost 모델을 생성합니다.\n",
        "model = xgb.XGBRegressor(n_estimators=100, \n",
        "                         learning_rate=0.01,\n",
        "                         subsample=0.8,\n",
        "                        colsample_bytree=1,\n",
        "                          max_depth=7)"
      ],
      "metadata": {
        "id": "PzFOPzfqt8Lk"
      },
      "execution_count": null,
      "outputs": []
    },
    {
      "cell_type": "code",
      "source": [
        "model.fit(train_set[feature_cols], train_set['Book-Rating'])"
      ],
      "metadata": {
        "id": "1aPUhvgRvS7w"
      },
      "execution_count": null,
      "outputs": []
    },
    {
      "cell_type": "code",
      "source": [
        "plot_importance(model)"
      ],
      "metadata": {
        "id": "YsKijI8FvwvK"
      },
      "execution_count": null,
      "outputs": []
    },
    {
      "cell_type": "markdown",
      "source": [
        "#### Valid"
      ],
      "metadata": {
        "id": "xk2kbFb1xTzK"
      }
    },
    {
      "cell_type": "code",
      "source": [
        "valid_pred = model.predict(valid_set[feature_cols])#.astype(int)"
      ],
      "metadata": {
        "id": "FqEljd6CwSob"
      },
      "execution_count": null,
      "outputs": []
    },
    {
      "cell_type": "code",
      "source": [
        "def rmse(real: list, predict: list) -> float:\n",
        "    pred = np.array(predict)\n",
        "    return np.sqrt(np.mean((real-pred) ** 2))\n",
        "  \n",
        "rmse(valid_set['Book-Rating'].to_numpy(), valid_pred)"
      ],
      "metadata": {
        "id": "Vsu6pqSh1Lqw"
      },
      "execution_count": null,
      "outputs": []
    },
    {
      "cell_type": "markdown",
      "source": [
        "## Test\n",
        "- train의 데이터를 갖다 써가지고 user_info, book_info 쓰면 안되나?"
      ],
      "metadata": {
        "id": "a1t0JEKwxRxh"
      }
    },
    {
      "cell_type": "code",
      "source": [
        "merge_test = pd.merge(pd.merge(test_pd, user_info, how='left', on='User-ID'), book_info, how='left', on='Book-ID')"
      ],
      "metadata": {
        "id": "trCh1_q5zjRD"
      },
      "execution_count": null,
      "outputs": []
    },
    {
      "cell_type": "code",
      "source": [
        "merge_test = pd.merge(merge_test, seg_pd.reset_index(), how='left', on='User-ID')"
      ],
      "metadata": {
        "id": "_ZV9SrjJ0iVy"
      },
      "execution_count": null,
      "outputs": []
    },
    {
      "cell_type": "code",
      "source": [
        "merge_test['Age_category'] = merge_test.Age.apply(get_age_category)"
      ],
      "metadata": {
        "id": "qe2VXbWew-gu"
      },
      "execution_count": null,
      "outputs": []
    },
    {
      "cell_type": "code",
      "source": [
        "test_pred = model.predict(merge_test[feature_cols])"
      ],
      "metadata": {
        "id": "14oK2-ig0Rp1"
      },
      "execution_count": null,
      "outputs": []
    },
    {
      "cell_type": "code",
      "source": [
        "merge_test['Book-Rating'] = test_pred#.astype(int)"
      ],
      "metadata": {
        "id": "r6qdwKJ01X4D"
      },
      "execution_count": null,
      "outputs": []
    },
    {
      "cell_type": "code",
      "source": [
        "submission_pd = merge_test[['ID','Book-Rating']]"
      ],
      "metadata": {
        "id": "igrSN_zc0vsa"
      },
      "execution_count": null,
      "outputs": []
    },
    {
      "cell_type": "code",
      "source": [
        "submission_pd"
      ],
      "metadata": {
        "id": "v6YCQGN11nnW"
      },
      "execution_count": null,
      "outputs": []
    },
    {
      "cell_type": "code",
      "source": [
        "submission = submission_pd\n",
        "submission"
      ],
      "metadata": {
        "id": "WThvR-wa1V1k"
      },
      "execution_count": null,
      "outputs": []
    },
    {
      "cell_type": "code",
      "source": [
        "submission.to_csv(f'./submission.csv', index=False)"
      ],
      "metadata": {
        "id": "R3LnbIW21zyw"
      },
      "execution_count": null,
      "outputs": []
    },
    {
      "cell_type": "code",
      "source": [
        "pd.read_csv('./submission.csv')"
      ],
      "metadata": {
        "id": "UKkr6wyp1-eR"
      },
      "execution_count": null,
      "outputs": []
    },
    {
      "cell_type": "markdown",
      "metadata": {
        "id": "ZERv1s5pv2Lc"
      },
      "source": [
        "# Ideas(조금씩 꺼내서 확인해보자)\n",
        "- 유저 관점\n",
        "  - 후한 유저냐 박한 유저냐\n",
        "  - 책을 얼마나 읽은 유저냐 \n",
        "    - 많이 읽었을수록 본인한테 맞는 책을 고르는 감각이 뛰어나서 평점이 점점 높아지지않을까\n",
        "  - 알바\n",
        "    - negative: 라이벌(?) 작품에 평점 테러\n",
        "    - positive: 관련 작품에 후후후한 평점만 \n",
        "  - 사는 나라, 지역\n",
        "     - 본인이 살아온 환경, 정서랑 너무 안맞으면 그게 호기심, 흥미를 유발할 수 있지만 이질감때문에 역효과가 날 수도 있음\n",
        "\n",
        "- 책 관점\n",
        "  - 대중적인 책인가\n",
        "    - 하위 평점(0~3)이 거의 없음\n",
        "  - 호불호가 갈리는 책인가\n",
        "    - 두개의 분포가 존재\n",
        "\n",
        "  \n",
        "- 저자 관점\n",
        "  - 성공작이 많은가\n",
        "    - 저자가 쓴 각각의 책 요약값(평점 중앙값 등등)이 높은게 많은지\n",
        "\n",
        "- 출판사 관점\n",
        "  - 매번 망작만 출판하는 회사\n",
        "  - 히트칠 대작만 출판하는 노하우 있는 회사"
      ]
    }
  ],
  "metadata": {
    "colab": {
      "provenance": [],
      "gpuType": "T4",
      "collapsed_sections": [
        "01KT3Zhsdl88"
      ],
      "authorship_tag": "ABX9TyPaVO1rKN76EiV36GcInWcR",
      "include_colab_link": true
    },
    "kernelspec": {
      "display_name": "Python 3",
      "name": "python3"
    },
    "language_info": {
      "name": "python"
    }
  },
  "nbformat": 4,
  "nbformat_minor": 0
}